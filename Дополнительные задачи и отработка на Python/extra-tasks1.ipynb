{
  "nbformat": 4,
  "nbformat_minor": 0,
  "metadata": {
    "colab": {
      "provenance": [],
      "authorship_tag": "ABX9TyNo6aNU7wafSbuVVanOSD6C",
      "include_colab_link": true
    },
    "kernelspec": {
      "name": "python3",
      "display_name": "Python 3"
    },
    "language_info": {
      "name": "python"
    }
  },
  "cells": [
    {
      "cell_type": "markdown",
      "metadata": {
        "id": "view-in-github",
        "colab_type": "text"
      },
      "source": [
        "<a href=\"https://colab.research.google.com/github/fruct49/University/blob/main/dop_zadachi/extra-tasks1.ipynb\" target=\"_parent\"><img src=\"https://colab.research.google.com/assets/colab-badge.svg\" alt=\"Open In Colab\"/></a>"
      ]
    },
    {
      "cell_type": "code",
      "execution_count": 1,
      "metadata": {
        "colab": {
          "base_uri": "https://localhost:8080/"
        },
        "id": "qiERfR5DP_HM",
        "outputId": "073f96c9-2ffa-42bf-8d5e-8e69fb7874af"
      },
      "outputs": [
        {
          "output_type": "stream",
          "name": "stdout",
          "text": [
            "Введите число от 1 до 99 (или 'выход' для завершения игры):\n",
            "55\n",
            "Ваше число больше.\n",
            "33\n",
            "Ваше число больше.\n",
            "22\n",
            "Ваше число больше.\n",
            "11\n",
            "Ваше число меньше.\n",
            "15\n",
            "Ваше число больше.\n",
            "13\n",
            "Вы победили за 6 попыток!\n"
          ]
        }
      ],
      "source": [
        "import random\n",
        "def number():\n",
        "    r = random.randrange(1, 100)\n",
        "    c = 0\n",
        "    print(\"Введите число от 1 до 99 (или 'выход' для завершения игры):\")\n",
        "\n",
        "    while True:\n",
        "        i = input()\n",
        "        c += 1\n",
        "        if i.lower() == \"выход\":\n",
        "            print(\"Конец игры.\")\n",
        "            break\n",
        "\n",
        "        if i.isdigit():\n",
        "            g = int(i)\n",
        "            if g > r:\n",
        "                print(\"Ваше число больше.\")\n",
        "            elif g < r:\n",
        "                print(\"Ваше число меньше.\")\n",
        "            else:\n",
        "                print(f'Вы победили за {c} попыток!')\n",
        "                break\n",
        "        else:\n",
        "            print(\"Вы ввели не число. Попробуйте снова.\")\n",
        "number()"
      ]
    }
  ]
}