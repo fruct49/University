{
  "nbformat": 4,
  "nbformat_minor": 0,
  "metadata": {
    "colab": {
      "provenance": [],
      "authorship_tag": "ABX9TyN3XWbOXIpVTVnOAHDdvFBx",
      "include_colab_link": true
    },
    "kernelspec": {
      "name": "python3",
      "display_name": "Python 3"
    },
    "language_info": {
      "name": "python"
    }
  },
  "cells": [
    {
      "cell_type": "markdown",
      "metadata": {
        "id": "view-in-github",
        "colab_type": "text"
      },
      "source": [
        "<a href=\"https://colab.research.google.com/github/fruct49/University/blob/main/Extra_Tasks.ipynb\" target=\"_parent\"><img src=\"https://colab.research.google.com/assets/colab-badge.svg\" alt=\"Open In Colab\"/></a>"
      ]
    },
    {
      "cell_type": "code",
      "execution_count": 2,
      "metadata": {
        "colab": {
          "base_uri": "https://localhost:8080/"
        },
        "id": "sz1zdhf9FT6E",
        "outputId": "67423fe3-1c7d-4f9a-e664-a6cb15654be9"
      },
      "outputs": [
        {
          "output_type": "stream",
          "name": "stdout",
          "text": [
            "Введите число от 1 до 99 (или 'выход' для завершения игры): 46\n",
            "50\n",
            "Ваше число больше.\n",
            "40\n",
            "Ваше число меньше.\n",
            "45\n",
            "Ваше число меньше.\n",
            "47\n",
            "Ваше число больше.\n",
            "46\n",
            "Вы победили за 5 попыток!\n"
          ]
        }
      ],
      "source": [
        "import random\n",
        "def number():\n",
        "    r = random.randrange(1, 100)\n",
        "    c = 0\n",
        "    print(\"Введите число от 1 до 99 или 'выход' для завершения игры:\", r)\n",
        "    while True:\n",
        "        i = input()\n",
        "        c += 1\n",
        "        if i.lower() == \"выход\":\n",
        "            print(\"Конец игры.\")\n",
        "            break\n",
        "        if i.isdigit():\n",
        "            g = int(i)\n",
        "            if g > r:\n",
        "                print(\"Ваше число больше.\")\n",
        "            elif g < r:\n",
        "                print(\"Ваше число меньше.\")\n",
        "            else:\n",
        "                print(f'Вы победили за {c} попыток!')\n",
        "                break\n",
        "        else:\n",
        "            print(\"Вы ввели не число. Попробуйте снова.\")\n",
        "number()\n"
      ]
    }
  ]
}